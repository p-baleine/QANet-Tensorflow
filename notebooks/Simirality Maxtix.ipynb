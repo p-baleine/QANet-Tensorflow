{
 "cells": [
  {
   "cell_type": "code",
   "execution_count": 1,
   "metadata": {},
   "outputs": [
    {
     "name": "stderr",
     "output_type": "stream",
     "text": [
      "/usr/local/lib/python3.5/dist-packages/h5py/__init__.py:36: FutureWarning: Conversion of the second argument of issubdtype from `float` to `np.floating` is deprecated. In future, it will be treated as `np.float64 == np.dtype(float).type`.\n",
      "  from ._conv import register_converters as _register_converters\n"
     ]
    }
   ],
   "source": [
    "import numpy as np\n",
    "import tensorflow as tf\n",
    "\n",
    "tf.enable_eager_execution()"
   ]
  },
  {
   "cell_type": "code",
   "execution_count": 2,
   "metadata": {},
   "outputs": [],
   "source": [
    "tf.executing_eagerly()\n",
    "\n",
    "np.random.seed(1234)\n",
    "\n",
    "batch_size = 2\n",
    "N = 10 # number of maximum context length\n",
    "M = 5 # number of maximum question length\n",
    "d = 128\n",
    "\n",
    "context = np.random.randn(batch_size, N, d)\n",
    "query = np.random.randn(batch_size, M, d)"
   ]
  },
  {
   "cell_type": "code",
   "execution_count": 3,
   "metadata": {},
   "outputs": [],
   "source": [
    "c = tf.constant(context)\n",
    "q = tf.constant(query)"
   ]
  },
  {
   "cell_type": "code",
   "execution_count": 4,
   "metadata": {
    "scrolled": true
   },
   "outputs": [
    {
     "name": "stdout",
     "output_type": "stream",
     "text": [
      "(2, 10, 5, 128)\n"
     ]
    }
   ],
   "source": [
    "x = tf.tile(tf.expand_dims(c, 2), [1, 1, 5, 1])\n",
    "\n",
    "print(x.shape)\n",
    "\n",
    "# axis=2に同じデータが5つづず並んでいる\n",
    "assert all(np.isclose(x[0][0][0], x[0][0][1]))\n",
    "assert all(np.isclose(x[0][0][0], x[0][0][2]))\n",
    "assert all(np.isclose(x[0][0][0], x[0][0][3]))\n",
    "assert all(np.isclose(x[0][0][0], x[0][0][4]))\n",
    "\n",
    "assert not all(np.isclose(x[0][0][0], x[0][1][0]))"
   ]
  },
  {
   "cell_type": "code",
   "execution_count": 5,
   "metadata": {},
   "outputs": [
    {
     "name": "stdout",
     "output_type": "stream",
     "text": [
      "(2, 10, 5, 128)\n"
     ]
    }
   ],
   "source": [
    "y = tf.tile(tf.expand_dims(q, 1), [1, 10, 1, 1])\n",
    "\n",
    "print(y.shape)\n",
    "\n",
    "# axis=3にデータが1つづつ並んでいる\n",
    "assert all(np.isclose(y[0][0][0], y[0][1][0]))\n",
    "assert all(np.isclose(y[0][0][1], y[0][1][1]))\n",
    "assert all(np.isclose(y[0][0][2], y[0][1][2]))\n",
    "\n",
    "assert not all(np.isclose(y[0][0][0], y[0][0][1]))"
   ]
  },
  {
   "cell_type": "code",
   "execution_count": 6,
   "metadata": {},
   "outputs": [],
   "source": [
    "x = tf.reshape(x, [-1, 10 * 5, 128])\n",
    "y = tf.reshape(y, [-1, 10 * 5, 128])"
   ]
  },
  {
   "cell_type": "code",
   "execution_count": 7,
   "metadata": {},
   "outputs": [
    {
     "name": "stdout",
     "output_type": "stream",
     "text": [
      "(2, 50, 256)\n"
     ]
    }
   ],
   "source": [
    "xy = tf.concat([x, y], 2)\n",
    "print(xy.shape)"
   ]
  },
  {
   "cell_type": "code",
   "execution_count": 8,
   "metadata": {},
   "outputs": [],
   "source": [
    "W = tf.constant(1., shape=[256, 1], dtype=tf.float64)"
   ]
  },
  {
   "cell_type": "code",
   "execution_count": 9,
   "metadata": {
    "scrolled": true
   },
   "outputs": [
    {
     "data": {
      "text/plain": [
       "<tf.Tensor: id=264, shape=(2, 10, 5), dtype=float64, numpy=\n",
       "array([[[ -8.5116306 ,   1.17680749,   1.1454999 ,  12.24783227,\n",
       "           3.4070994 ],\n",
       "        [ -0.49786499,   9.1905731 ,   9.15926551,  20.26159789,\n",
       "          11.42086501],\n",
       "        [  7.58958553,  17.27802362,  17.24671603,  28.34904841,\n",
       "          19.50831553],\n",
       "        [-28.85097223, -19.16253414, -19.19384173,  -8.09150935,\n",
       "         -16.93224222],\n",
       "        [ -2.53536932,   7.15306877,   7.12176118,  18.22409356,\n",
       "           9.38336069],\n",
       "        [ -2.56116482,   7.12727327,   7.09596568,  18.19829806,\n",
       "           9.35756518],\n",
       "        [-16.05366551,  -6.36522742,  -6.39653501,   4.70579737,\n",
       "          -4.1349355 ],\n",
       "        [-12.73966298,  -3.05122489,  -3.08253248,   8.0197999 ,\n",
       "          -0.82093298],\n",
       "        [-12.93958368,  -3.25114559,  -3.28245318,   7.81987919,\n",
       "          -1.02085368],\n",
       "        [ -7.87552235,   1.81291574,   1.78160815,  12.88394052,\n",
       "           4.04320765]],\n",
       "\n",
       "       [[  8.0440727 ,   7.08567584,  13.80636119,  23.30950523,\n",
       "          14.07685498],\n",
       "        [ -2.62947756,  -3.58787441,   3.13281093,  12.63595497,\n",
       "           3.40330472],\n",
       "        [  6.50446232,   5.54606547,  12.26675082,  21.76989486,\n",
       "          12.5372446 ],\n",
       "        [-12.10913512, -13.06753197,  -6.34684663,   3.15629742,\n",
       "          -6.07635284],\n",
       "        [  3.01711826,   2.05872141,   8.77940675,  18.2825508 ,\n",
       "           9.04990054],\n",
       "        [  0.80626951,  -0.15212735,   6.568558  ,  16.07170204,\n",
       "           6.83905179],\n",
       "        [ -9.95625441, -10.91465126,  -4.19396591,   5.30917813,\n",
       "          -3.92347213],\n",
       "        [  2.70979688,   1.75140003,   8.47208537,  17.97522942,\n",
       "           8.74257916],\n",
       "        [  9.32897012,   8.37057327,  15.09125862,  24.59440266,\n",
       "          15.3617524 ],\n",
       "        [ 12.88147529,  11.92307844,  18.64376379,  28.14690783,\n",
       "          18.91425757]]])>"
      ]
     },
     "execution_count": 9,
     "metadata": {},
     "output_type": "execute_result"
    }
   ],
   "source": [
    "tf.reshape(tf.tensordot(xy, W, [[2], [0]]), [-1, 10, 5])"
   ]
  },
  {
   "cell_type": "code",
   "execution_count": 10,
   "metadata": {},
   "outputs": [
    {
     "name": "stdout",
     "output_type": "stream",
     "text": [
      "(2, 10, 5, 128)\n",
      "(2, 50, 1, 128)\n",
      "(100, 128)\n",
      "(100, 128)\n"
     ]
    }
   ],
   "source": [
    "c = tf.tile(tf.expand_dims(context, 2), [1, 1, M, 1])\n",
    "\n",
    "q = tf.tile(tf.expand_dims(query, 2), [1, N, 1, 1])\n",
    "\n",
    "\n",
    "from functools import reduce\n",
    "from operator import mul\n",
    "\n",
    "def flatten(tensor, keep):\n",
    "    fixed_shape = tensor.get_shape().as_list()\n",
    "    start = len(fixed_shape) - keep\n",
    "    left = reduce(mul, [fixed_shape[i] or tf.shape(tensor)[i] for i in range(start)])\n",
    "    out_shape = [left] + [fixed_shape[i] or tf.shape(tensor)[i] for i in range(start, len(fixed_shape))]\n",
    "    flat = tf.reshape(tensor, out_shape)\n",
    "    return flat\n",
    "\n",
    "def reconstruct(tensor, ref, keep):\n",
    "    ref_shape = ref.get_shape().as_list()\n",
    "    tensor_shape = tensor.get_shape().as_list()\n",
    "    ref_stop = len(ref_shape) - keep\n",
    "    tensor_start = len(tensor_shape) - keep\n",
    "    pre_shape = [ref_shape[i] or tf.shape(ref)[i] for i in range(ref_stop)]\n",
    "    keep_shape = [tensor_shape[i] or tf.shape(tensor)[i] for i in range(tensor_start, len(tensor_shape))]\n",
    "    # pre_shape = [tf.shape(ref)[i] for i in range(len(ref.get_shape().as_list()[:-keep]))]\n",
    "    # keep_shape = tensor.get_shape().as_list()[-keep:]\n",
    "    target_shape = pre_shape + keep_shape\n",
    "    out = tf.reshape(tensor, target_shape)\n",
    "    return out\n",
    "\n",
    "print(c.shape)\n",
    "print(q.shape)\n",
    "\n",
    "print(flatten(c, 1).shape)\n",
    "print(flatten(q, 1).shape)"
   ]
  },
  {
   "cell_type": "code",
   "execution_count": 11,
   "metadata": {},
   "outputs": [],
   "source": [
    "def _linear(args,\n",
    "            output_size,\n",
    "            bias,\n",
    "            bias_initializer=None,\n",
    "            kernel_initializer=None):\n",
    "  \"\"\"Linear map: sum_i(args[i] * W[i]), where W[i] is a variable.\n",
    "  Args:\n",
    "    args: a 2D Tensor or a list of 2D, batch x n, Tensors.\n",
    "    output_size: int, second dimension of W[i].\n",
    "    bias: boolean, whether to add a bias term or not.\n",
    "    bias_initializer: starting value to initialize the bias\n",
    "      (default is all zeros).\n",
    "    kernel_initializer: starting value to initialize the weight.\n",
    "  Returns:\n",
    "    A 2D Tensor with shape [batch x output_size] equal to\n",
    "    sum_i(args[i] * W[i]), where W[i]s are newly created matrices.\n",
    "  Raises:\n",
    "    ValueError: if some of the arguments has unspecified or wrong shape.\n",
    "  \"\"\"\n",
    "  if args is None or (tf.contrib.framework.nest.is_sequence(args) and not args):\n",
    "    raise ValueError(\"`args` must be specified\")\n",
    "  if not tf.contrib.framework.nest.is_sequence(args):\n",
    "    args = [args]\n",
    "\n",
    "  # Calculate the total size of arguments on dimension 1.\n",
    "  total_arg_size = 0\n",
    "  shapes = [a.get_shape() for a in args]\n",
    "  for shape in shapes:\n",
    "    if shape.ndims != 2:\n",
    "      raise ValueError(\"linear is expecting 2D arguments: %s\" % shapes)\n",
    "    if shape[1].value is None:\n",
    "      raise ValueError(\"linear expects shape[1] to be provided for shape %s, \"\n",
    "                       \"but saw %s\" % (shape, shape[1]))\n",
    "    else:\n",
    "      total_arg_size += shape[1].value\n",
    "\n",
    "  dtype = [a.dtype for a in args][0]\n",
    "\n",
    "  # Now the computation.\n",
    "  scope = tf.get_variable_scope()\n",
    "  with tf.variable_scope(scope) as outer_scope:\n",
    "    weights = tf.get_variable(\n",
    "        \"kernel\", [total_arg_size, output_size],\n",
    "        dtype=dtype,\n",
    "        initializer=tf.constant_initializer(1.))\n",
    "        #initializer=kernel_initializer)\n",
    "    if len(args) == 1:\n",
    "      res = tf.matmul(args[0], weights)\n",
    "    else:\n",
    "      res = tf.matmul(tf.concat(args, 1), weights)\n",
    "    if not bias:\n",
    "      return res\n",
    "    with tf.variable_scope(outer_scope) as inner_scope:\n",
    "      inner_scope.set_partitioner(None)\n",
    "      if bias_initializer is None:\n",
    "        bias_initializer = tf.constant_initializer(0.0, dtype=dtype)\n",
    "      biases = tf.get_variable(\n",
    "          \"bias\", [output_size],\n",
    "          dtype=dtype,\n",
    "          initializer=bias_initializer)\n",
    "    return tf.nn.bias_add(res, biases)"
   ]
  },
  {
   "cell_type": "code",
   "execution_count": 15,
   "metadata": {},
   "outputs": [
    {
     "name": "stdout",
     "output_type": "stream",
     "text": [
      "tf.Tensor([-26.68072809   8.70696234   4.05913972   1.02610918  20.79146408], shape=(5,), dtype=float64)\n",
      "-26.680728087397405\n",
      "8.706962343102592\n",
      "4.059139716117496\n"
     ]
    }
   ],
   "source": [
    "# 本家を動かした結果、linearでweightを1に固定している\n",
    "# この値と合えばOK\n",
    "x = tf.squeeze(reconstruct(_linear([flatten(c, 1), flatten(q, 1),\n",
    "                                   flatten(c, 1) * flatten(q, 1)], 1, False), c, 1), 3)\n",
    "\n",
    "# linearのweightが1なので、単にcontextの単語とqueryの単語とそれらをかけ合わせたものsumになっている\n",
    "print(x[0][0])\n",
    "print(np.sum(context[0][0]) + np.sum(query[0][0]) + np.sum(context[0][0] * query[0][0]))\n",
    "print(np.sum(context[0][0]) + np.sum(query[0][1]) + np.sum(context[0][0] * query[0][1]))\n",
    "print(np.sum(context[0][0]) + np.sum(query[0][2]) + np.sum(context[0][0] * query[0][2]))"
   ]
  },
  {
   "cell_type": "code",
   "execution_count": 13,
   "metadata": {},
   "outputs": [
    {
     "name": "stdout",
     "output_type": "stream",
     "text": [
      "-26.680728087397405\n",
      "8.706962343102592\n",
      "4.059139716117496\n"
     ]
    }
   ],
   "source": [
    "print(np.sum(context[0][0]) + np.sum(query[0][0]) + np.sum(context[0][0] * query[0][0]))\n",
    "print(np.sum(context[0][0]) + np.sum(query[0][1]) + np.sum(context[0][0] * query[0][1]))\n",
    "print(np.sum(context[0][0]) + np.sum(query[0][2]) + np.sum(context[0][0] * query[0][2]))"
   ]
  },
  {
   "cell_type": "code",
   "execution_count": 16,
   "metadata": {},
   "outputs": [
    {
     "name": "stdout",
     "output_type": "stream",
     "text": [
      "tf.Tensor(\n",
      "[[-26.68072809   8.70696234   4.05913972   1.02610918  20.79146408]\n",
      " [  8.20336242  26.70335526  10.09011566  28.83012336   4.40243293]\n",
      " [ -0.28737536  22.45798754  39.04284817  35.48367173  17.64851754]\n",
      " [-19.38573035 -25.33182801 -18.60546732  -4.20703449  -8.93810904]\n",
      " [ -7.73918602   8.75593932  29.60629937  23.94264757  -5.00442065]\n",
      " [ -8.55095274  13.35000193   5.27460929   1.45506716  -5.76866822]\n",
      " [-19.97297749  -9.35981837 -22.49833832  11.98896016  16.97111008]\n",
      " [ -9.5906913   -0.09886414  -7.15134309 -16.83037913 -17.28229327]\n",
      " [ -6.80150567   2.11880275   9.3623348   -0.92955709  -4.84385472]\n",
      " [  4.92427787   8.27363957  -4.16703072  24.31109154  -6.91405945]], shape=(10, 5), dtype=float64)\n"
     ]
    }
   ],
   "source": [
    "print(x[0])"
   ]
  },
  {
   "cell_type": "code",
   "execution_count": 22,
   "metadata": {},
   "outputs": [
    {
     "data": {
      "text/plain": [
       "array([2.41594153e-21, 5.64631497e-06, 5.41054958e-08, 2.60623130e-09,\n",
       "       9.99994297e-01])"
      ]
     },
     "execution_count": 22,
     "metadata": {},
     "output_type": "execute_result"
    }
   ],
   "source": [
    "# 行方向のsoftmax\n",
    "np.exp(x[0][0]) / np.sum(np.exp(x[0][0]))"
   ]
  },
  {
   "cell_type": "code",
   "execution_count": 29,
   "metadata": {},
   "outputs": [
    {
     "data": {
      "text/plain": [
       "array([6.82165299e-16, 9.63513129e-01, 1.97868687e-04, 1.00477052e-12,\n",
       "       1.14840962e-07, 5.09977500e-08, 5.58507094e-13, 1.80301067e-08,\n",
       "       2.93309564e-07, 3.62885247e-02])"
      ]
     },
     "execution_count": 29,
     "metadata": {},
     "output_type": "execute_result"
    }
   ],
   "source": [
    "# 列方向\n",
    "np.exp(x[0][:, 0]) / np.sum(np.exp(x[0][:, 0]))"
   ]
  },
  {
   "cell_type": "code",
   "execution_count": 27,
   "metadata": {
    "scrolled": true
   },
   "outputs": [
    {
     "data": {
      "text/plain": [
       "<tf.Tensor: id=559, shape=(2, 10, 5), dtype=float64, numpy=\n",
       "array([[[2.41594153e-21, 5.64631497e-06, 5.41054958e-08, 2.60623130e-09,\n",
       "         9.99994297e-01],\n",
       "        [9.84000473e-10, 1.06522196e-01, 6.49234858e-09, 8.93477796e-01,\n",
       "         2.19923988e-11],\n",
       "        [8.07072528e-18, 6.09674685e-08, 9.72325366e-01, 2.76745728e-02,\n",
       "         4.97017728e-10],\n",
       "        [2.53608267e-07, 6.63446652e-10, 5.53384941e-07, 9.91259268e-01,\n",
       "         8.73992467e-03],\n",
       "        [6.01945887e-17, 8.77605564e-10, 9.96542175e-01, 3.45782458e-03,\n",
       "         9.27365554e-16],\n",
       "        [3.07891844e-10, 9.99682170e-01, 3.11002217e-04, 6.82271785e-06,\n",
       "         4.97426590e-09],\n",
       "        [8.96226624e-17, 3.64463704e-12, 7.17245064e-18, 6.81257026e-03,\n",
       "         9.93187430e-01],\n",
       "        [7.53951561e-05, 9.99060068e-01, 8.64448073e-04, 5.40987174e-08,\n",
       "         3.44289001e-08],\n",
       "        [9.54570288e-08, 7.14247349e-04, 9.99251100e-01, 3.38815116e-05,\n",
       "         6.76090631e-07],\n",
       "        [3.80551777e-09, 1.08398446e-07, 4.28655694e-13, 9.99999888e-01,\n",
       "         2.74845849e-14]],\n",
       "\n",
       "       [[6.18905674e-15, 9.99682572e-01, 3.10645458e-09, 9.19769900e-05,\n",
       "         2.25447995e-04],\n",
       "        [1.12293771e-01, 2.02572730e-06, 6.21811948e-04, 8.87082391e-01,\n",
       "         5.27236103e-17],\n",
       "        [4.44989119e-09, 2.94244610e-05, 1.38763782e-08, 9.99970546e-01,\n",
       "         1.07972045e-08],\n",
       "        [8.98340237e-28, 4.56806094e-18, 9.99994942e-01, 5.05816358e-06,\n",
       "         1.28068330e-15],\n",
       "        [3.64241122e-04, 3.03196484e-17, 2.68916093e-04, 5.07896586e-01,\n",
       "         4.91470257e-01],\n",
       "        [2.14595005e-05, 1.65961291e-03, 9.83086558e-01, 1.51858356e-02,\n",
       "         4.65340903e-05],\n",
       "        [9.05836428e-09, 5.46919777e-12, 9.43465942e-01, 5.65340383e-02,\n",
       "         1.09522065e-08],\n",
       "        [8.54771750e-21, 2.86772305e-09, 2.80947769e-12, 9.99999997e-01,\n",
       "         1.97117993e-15],\n",
       "        [3.04887398e-13, 6.50371563e-20, 6.22271703e-16, 1.00000000e+00,\n",
       "         1.04966734e-18],\n",
       "        [1.18512803e-08, 4.19712264e-13, 3.73211255e-10, 9.99999754e-01,\n",
       "         2.33300031e-07]]])>"
      ]
     },
     "execution_count": 27,
     "metadata": {},
     "output_type": "execute_result"
    }
   ],
   "source": [
    "tf.nn.softmax(x, axis=2)"
   ]
  },
  {
   "cell_type": "code",
   "execution_count": 30,
   "metadata": {
    "scrolled": true
   },
   "outputs": [
    {
     "data": {
      "text/plain": [
       "<tf.Tensor: id=612, shape=(2, 10, 5), dtype=float64, numpy=\n",
       "array([[[6.82165299e-16, 1.50690439e-08, 6.40816707e-16, 1.08318037e-15,\n",
       "         9.38900516e-01],\n",
       "        [9.63513129e-01, 9.85870415e-01, 2.66657252e-13, 1.28774749e-03,\n",
       "         7.16067202e-08],\n",
       "        [1.97868687e-04, 1.41279797e-02, 9.99920251e-01, 9.98688506e-01,\n",
       "         4.05186752e-02],\n",
       "        [1.00477052e-12, 2.48443065e-23, 9.19644666e-26, 5.78063247e-18,\n",
       "         1.15141006e-13],\n",
       "        [1.14840962e-07, 1.58254522e-08, 7.97488252e-05, 9.71017251e-06,\n",
       "         5.88313997e-12],\n",
       "        [5.09977500e-08, 1.56506424e-06, 2.16075515e-15, 1.66339297e-15,\n",
       "         2.73968529e-12],\n",
       "        [5.58507094e-13, 2.14675522e-16, 1.87485490e-27, 6.24894159e-11,\n",
       "         2.05807367e-02],\n",
       "        [1.80301067e-08, 2.25820750e-12, 8.67127588e-21, 1.90426085e-23,\n",
       "         2.73776932e-17],\n",
       "        [2.93309564e-07, 2.07436101e-11, 1.28790013e-13, 1.53237730e-16,\n",
       "         6.90783698e-12],\n",
       "        [3.62885247e-02, 9.77003249e-09, 1.71456280e-19, 1.40358956e-05,\n",
       "         8.71492374e-13]],\n",
       "\n",
       "       [[3.99141328e-14, 9.99922047e-01, 1.65594366e-08, 1.81035311e-16,\n",
       "         5.09873313e-02],\n",
       "        [1.74530763e-04, 4.88313904e-10, 7.98828768e-07, 4.20786836e-16,\n",
       "         2.87365834e-18],\n",
       "        [2.41316831e-08, 2.47484798e-05, 6.22003263e-08, 1.65503543e-12,\n",
       "         2.05335111e-06],\n",
       "        [1.08457341e-27, 8.55365597e-19, 9.97916529e-01, 1.86377223e-18,\n",
       "         5.42217482e-14],\n",
       "        [7.86028646e-06, 1.01478807e-19, 4.79672153e-06, 3.34508039e-15,\n",
       "         3.71929229e-01],\n",
       "        [6.91078518e-09, 8.28927178e-08, 2.61684413e-04, 1.49254813e-18,\n",
       "         5.25524155e-07],\n",
       "        [1.26359043e-12, 1.18326485e-16, 1.08783014e-04, 2.40684665e-18,\n",
       "         5.35761917e-11],\n",
       "        [1.02016891e-15, 5.30836675e-05, 2.77156982e-07, 3.64253546e-08,\n",
       "         8.25015032e-09],\n",
       "        [9.98981816e-01, 3.30507594e-08, 1.68529710e-03, 9.99999942e-01,\n",
       "         1.20610040e-04],\n",
       "        [8.35762136e-04, 4.59061499e-09, 2.17545681e-05, 2.15228203e-08,\n",
       "         5.76960243e-01]]])>"
      ]
     },
     "execution_count": 30,
     "metadata": {},
     "output_type": "execute_result"
    }
   ],
   "source": [
    "tf.nn.softmax(x, axis=1)"
   ]
  },
  {
   "cell_type": "code",
   "execution_count": null,
   "metadata": {},
   "outputs": [],
   "source": [
    "tf.matmul(tf.nn.softmax(x, axis=2), qu)"
   ]
  }
 ],
 "metadata": {
  "kernelspec": {
   "display_name": "Python 3",
   "language": "python",
   "name": "python3"
  },
  "language_info": {
   "codemirror_mode": {
    "name": "ipython",
    "version": 3
   },
   "file_extension": ".py",
   "mimetype": "text/x-python",
   "name": "python",
   "nbconvert_exporter": "python",
   "pygments_lexer": "ipython3",
   "version": "3.5.2"
  }
 },
 "nbformat": 4,
 "nbformat_minor": 2
}
