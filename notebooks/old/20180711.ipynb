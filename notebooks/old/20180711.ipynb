{
 "cells": [
  {
   "cell_type": "markdown",
   "metadata": {},
   "source": [
    "Exponential moving average等、kerasのmodelのAPIに乗っていると実装をし辛い対応を行うために、kerasのmodelのAPIを諦めて、tensorflowのSessionを使った実装に修正を行った。\n",
    "\n",
    "少量のデータでkeras版とtf.Session版のlossやaccを比較して、実装に誤りがないか確認した。\n",
    "\n",
    "修正後の実装でもlossは減少し、またaccは増加していた。\n",
    "\n",
    "但し、なぜか修正後の実装の方がlossもaccも微妙に良い値となってしまった。\n",
    "\n",
    "* 14epoch時点でのloss\n",
    "  - 修正前： 1.86\n",
    "  - 修正後: 1.38(実際にはこれを2倍した値、start + endで計算しているため)\n",
    "* 14epoch時点でのacc\n",
    "  - 修正前： 0.30\n",
    "  - 修正後:  0.43\n",
    "\n",
    "ネットワークの構造は変更していない(つもり)。バグ以外で他に思いつくとすれば、修正前はkerasのRMSPropOptimizerを使っていたけれど、修正後はtfのRMSPropOptimizerを使っている点。どちらもデフォルトの引数は同じようだから、これも違うきもするけれど…。\n",
    "\n",
    "まぁ初期値等で修正前も修正後も学習の度に若干挙動は異なるので、とりあえずこのままいく。\n",
    "\n",
    "---\n",
    "\n",
    "十分に過学習させた上でexact_matchを計算すると、90程度に逹していたので、修正は上手く行ったと判断する。ひとまずこの状態でSQuAD本番データで学習してみて、学習曲線がどのようなものになるのか確認する。"
   ]
  },
  {
   "cell_type": "code",
   "execution_count": null,
   "metadata": {},
   "outputs": [],
   "source": []
  }
 ],
 "metadata": {
  "kernelspec": {
   "display_name": "Python 3",
   "language": "python",
   "name": "python3"
  },
  "language_info": {
   "codemirror_mode": {
    "name": "ipython",
    "version": 3
   },
   "file_extension": ".py",
   "mimetype": "text/x-python",
   "name": "python",
   "nbconvert_exporter": "python",
   "pygments_lexer": "ipython3",
   "version": "3.5.2"
  }
 },
 "nbformat": 4,
 "nbformat_minor": 2
}
