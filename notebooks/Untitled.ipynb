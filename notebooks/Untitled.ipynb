{
 "cells": [
  {
   "cell_type": "code",
   "execution_count": 1,
   "metadata": {},
   "outputs": [
    {
     "name": "stderr",
     "output_type": "stream",
     "text": [
      "/usr/local/lib/python3.5/dist-packages/h5py/__init__.py:36: FutureWarning: Conversion of the second argument of issubdtype from `float` to `np.floating` is deprecated. In future, it will be treated as `np.float64 == np.dtype(float).type`.\n",
      "  from ._conv import register_converters as _register_converters\n"
     ]
    }
   ],
   "source": [
    "import tensorflow as tf\n",
    "\n",
    "batch_size = 128\n",
    "num_classes = 10\n",
    "epochs = 20\n",
    "\n",
    "#tf.enable_eager_execution()"
   ]
  },
  {
   "cell_type": "code",
   "execution_count": 2,
   "metadata": {},
   "outputs": [],
   "source": [
    "#tf.executing_eagerly()"
   ]
  },
  {
   "cell_type": "code",
   "execution_count": 3,
   "metadata": {},
   "outputs": [],
   "source": [
    "(x_train, y_train), (x_test, y_test) = tf.keras.datasets.mnist.load_data()"
   ]
  },
  {
   "cell_type": "code",
   "execution_count": 4,
   "metadata": {},
   "outputs": [
    {
     "name": "stdout",
     "output_type": "stream",
     "text": [
      "60000 train samples\n",
      "10000 test samples\n"
     ]
    }
   ],
   "source": [
    "x_train = x_train.reshape(60000, 784)\n",
    "x_test = x_test.reshape(10000, 784)\n",
    "x_train = x_train.astype('float32')\n",
    "x_test = x_test.astype('float32')\n",
    "x_train /= 255\n",
    "x_test /= 255\n",
    "print(x_train.shape[0], 'train samples')\n",
    "print(x_test.shape[0], 'test samples')\n",
    "\n",
    "# convert class vectors to binary class matrices\n",
    "y_train = tf.keras.utils.to_categorical(y_train, num_classes)\n",
    "y_test = tf.keras.utils.to_categorical(y_test, num_classes)"
   ]
  },
  {
   "cell_type": "code",
   "execution_count": 5,
   "metadata": {},
   "outputs": [],
   "source": [
    "import numpy as np\n",
    "\n",
    "class MNISTSequence(tf.keras.utils.Sequence):\n",
    "    def __init__(self, x_set, y_set, batch_size):\n",
    "        self._x_set = x_set\n",
    "        self._y_set = y_set\n",
    "        self._batch_size = batch_size\n",
    "    def __len__(self):\n",
    "        return int(np.ceil(len(self._x_set) / float(self._batch_size)))\n",
    "    def __getitem__(self, idx):\n",
    "        batch_x = self._x_set[idx * self._batch_size:(idx + 1) * self._batch_size]\n",
    "        batch_y = self._y_set[idx * self._batch_size:(idx + 1) * self._batch_size]\n",
    "        \n",
    "        return batch_x, batch_y"
   ]
  },
  {
   "cell_type": "code",
   "execution_count": 6,
   "metadata": {},
   "outputs": [],
   "source": [
    "class MySimpleLayer(tf.keras.layers.Layer):\n",
    "    def __init__(self, output_units, **kwargs):\n",
    "        self.output_units = output_units\n",
    "        super(MySimpleLayer, self).__init__(**kwargs)\n",
    "\n",
    "    def build(self, input):\n",
    "        self.kernel = self.add_variable(\n",
    "          \"kernel\", [input[-1], self.output_units])\n",
    "        self.bias = self.add_variable(\"bias\", [self.output_units])\n",
    "        super(MySimpleLayer, self).build(input)\n",
    "\n",
    "    def call(self, input):\n",
    "        # Override call() instead of __call__ so we can perform some bookkeeping.\n",
    "        return tf.matmul(input, self.kernel) + self.bias\n",
    "    \n",
    "    def compute_output_shape(self, input):\n",
    "        return tf.TensorShape([input[0], self.output_units])"
   ]
  },
  {
   "cell_type": "code",
   "execution_count": 7,
   "metadata": {},
   "outputs": [],
   "source": [
    "# inputs = tf.keras.layers.Input(shape=x_train[0].shape)\n",
    "\n",
    "# x = tf.keras.layers.Dense(512, activation='relu')(inputs)\n",
    "# x = tf.keras.layers.Dropout(0.2)(x)\n",
    "# x = tf.keras.layers.Dense(512, activation='relu')(x)\n",
    "# x = tf.keras.layers.Dropout(0.2)(x)\n",
    "# #x = tf.keras.layers.Dense(num_classes)(x)\n",
    "# x = MySimpleLayer(num_classes)(x)\n",
    "# x = tf.keras.layers.Activation('softmax')(x)"
   ]
  },
  {
   "cell_type": "code",
   "execution_count": null,
   "metadata": {},
   "outputs": [],
   "source": [
    "class Model(tf.keras.models.Model):\n",
    "    def __init__(self, **kwargs):\n",
    "        super(Model, self).__init__(**kwargs)\n",
    "    \n",
    "    def call(self, x):\n",
    "        x = tf.keras.layers.Dense(512, activation='relu')(inputs)\n",
    "        x = tf.keras.layers.Dropout(0.2)(x)\n",
    "        x = tf.keras.layers.Dense(512, activation='relu')(x)\n",
    "        x = tf.keras.layers.Dropout(0.2)(x)\n",
    "        #x = tf.keras.layers.Dense(num_classes)(x)\n",
    "        x = MySimpleLayer(num_classes)(x)\n",
    "        x = tf.keras.layers.Activation('softmax')(x)\n",
    "        return x\n",
    "\n",
    "inputs = tf.keras.layers.Input(shape=x_train[0].shape)\n",
    "outputs = Model()(inputs)"
   ]
  },
  {
   "cell_type": "code",
   "execution_count": 8,
   "metadata": {},
   "outputs": [
    {
     "name": "stdout",
     "output_type": "stream",
     "text": [
      "skip []\n",
      "Tensor(\"activation_1_target:0\", shape=(?, ?), dtype=float32)\n",
      "Tensor(\"activation/Softmax:0\", shape=(?, 10), dtype=float32)\n",
      "None\n"
     ]
    }
   ],
   "source": [
    "model = tf.keras.models.Model(inputs=inputs, outputs=x)\n",
    "\n",
    "model.compile(loss='categorical_crossentropy',\n",
    "              optimizer=tf.train.RMSPropOptimizer(0.001),\n",
    "              metrics=['accuracy'])"
   ]
  },
  {
   "cell_type": "code",
   "execution_count": 9,
   "metadata": {
    "scrolled": true
   },
   "outputs": [
    {
     "name": "stdout",
     "output_type": "stream",
     "text": [
      "Epoch 1/20\n",
      "469/469 [==============================] - 2s 4ms/step - loss: 0.6458 - acc: 0.7921 - val_loss: 0.1192 - val_acc: 0.9625\n",
      "Epoch 2/20\n",
      "469/469 [==============================] - 1s 3ms/step - loss: 0.1191 - acc: 0.9641 - val_loss: 0.0908 - val_acc: 0.9726\n",
      "Epoch 3/20\n",
      "469/469 [==============================] - 2s 3ms/step - loss: 0.0818 - acc: 0.9752 - val_loss: 0.0843 - val_acc: 0.9765\n",
      "Epoch 4/20\n",
      "469/469 [==============================] - 1s 3ms/step - loss: 0.0661 - acc: 0.9800 - val_loss: 0.0761 - val_acc: 0.9796\n",
      "Epoch 5/20\n",
      "469/469 [==============================] - 1s 3ms/step - loss: 0.0524 - acc: 0.9840 - val_loss: 0.0773 - val_acc: 0.9787\n",
      "Epoch 6/20\n",
      "469/469 [==============================] - 2s 3ms/step - loss: 0.0470 - acc: 0.9860 - val_loss: 0.0763 - val_acc: 0.9794\n",
      "Epoch 7/20\n",
      "469/469 [==============================] - 2s 3ms/step - loss: 0.0402 - acc: 0.9875 - val_loss: 0.0800 - val_acc: 0.9811\n",
      "Epoch 8/20\n",
      "469/469 [==============================] - 1s 2ms/step - loss: 0.0349 - acc: 0.9895 - val_loss: 0.0843 - val_acc: 0.9817\n",
      "Epoch 9/20\n",
      "469/469 [==============================] - 1s 3ms/step - loss: 0.0307 - acc: 0.9910 - val_loss: 0.0918 - val_acc: 0.9825\n",
      "Epoch 10/20\n",
      "469/469 [==============================] - 1s 2ms/step - loss: 0.0281 - acc: 0.9918 - val_loss: 0.0918 - val_acc: 0.9832\n",
      "Epoch 11/20\n",
      "469/469 [==============================] - 1s 2ms/step - loss: 0.0296 - acc: 0.9917 - val_loss: 0.0922 - val_acc: 0.9824\n",
      "Epoch 12/20\n",
      "469/469 [==============================] - 1s 3ms/step - loss: 0.0266 - acc: 0.9927 - val_loss: 0.1138 - val_acc: 0.9795\n",
      "Epoch 13/20\n",
      "469/469 [==============================] - 1s 3ms/step - loss: 0.0237 - acc: 0.9932 - val_loss: 0.0965 - val_acc: 0.9828\n",
      "Epoch 14/20\n",
      "469/469 [==============================] - 1s 3ms/step - loss: 0.0234 - acc: 0.9937 - val_loss: 0.0793 - val_acc: 0.9845\n",
      "Epoch 15/20\n",
      "469/469 [==============================] - 1s 2ms/step - loss: 0.0218 - acc: 0.9939 - val_loss: 0.0944 - val_acc: 0.9840\n",
      "Epoch 16/20\n",
      "469/469 [==============================] - 1s 3ms/step - loss: 0.0214 - acc: 0.9946 - val_loss: 0.0999 - val_acc: 0.9833\n",
      "Epoch 17/20\n",
      "469/469 [==============================] - 1s 3ms/step - loss: 0.0216 - acc: 0.9946 - val_loss: 0.1005 - val_acc: 0.9842\n",
      "Epoch 18/20\n",
      "469/469 [==============================] - 1s 3ms/step - loss: 0.0188 - acc: 0.9950 - val_loss: 0.1018 - val_acc: 0.9839\n",
      "Epoch 19/20\n",
      "469/469 [==============================] - 1s 2ms/step - loss: 0.0193 - acc: 0.9950 - val_loss: 0.0991 - val_acc: 0.9835\n",
      "Epoch 20/20\n",
      "469/469 [==============================] - 1s 3ms/step - loss: 0.0181 - acc: 0.9952 - val_loss: 0.1006 - val_acc: 0.9829\n"
     ]
    },
    {
     "data": {
      "text/plain": [
       "<tensorflow.python.keras._impl.keras.callbacks.History at 0x7f89fb25cc18>"
      ]
     },
     "execution_count": 9,
     "metadata": {},
     "output_type": "execute_result"
    }
   ],
   "source": [
    "train_gen = MNISTSequence(x_train, y_train, batch_size)\n",
    "test_gen = MNISTSequence(x_test, y_test, batch_size)\n",
    "model.fit_generator(train_gen, validation_data=test_gen, epochs=epochs)\n",
    "# model.fit(x_train, y_train,\n",
    "#                     batch_size=batch_size,\n",
    "#                     epochs=epochs,\n",
    "#                     verbose=1,\n",
    "#                     validation_data=(x_test, y_test))"
   ]
  },
  {
   "cell_type": "code",
   "execution_count": null,
   "metadata": {},
   "outputs": [],
   "source": [
    "score = model.evaluate(x_test, y_test, verbose=0)\n",
    "print('Test loss:', score[0])\n",
    "print('Test accuracy:', score[1])"
   ]
  },
  {
   "cell_type": "code",
   "execution_count": null,
   "metadata": {},
   "outputs": [],
   "source": []
  }
 ],
 "metadata": {
  "kernelspec": {
   "display_name": "Python 3",
   "language": "python",
   "name": "python3"
  },
  "language_info": {
   "codemirror_mode": {
    "name": "ipython",
    "version": 3
   },
   "file_extension": ".py",
   "mimetype": "text/x-python",
   "name": "python",
   "nbconvert_exporter": "python",
   "pygments_lexer": "ipython3",
   "version": "3.5.2"
  }
 },
 "nbformat": 4,
 "nbformat_minor": 2
}
