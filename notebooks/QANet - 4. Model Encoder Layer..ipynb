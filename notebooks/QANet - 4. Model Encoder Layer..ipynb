{
 "cells": [
  {
   "cell_type": "code",
   "execution_count": 1,
   "metadata": {},
   "outputs": [
    {
     "name": "stderr",
     "output_type": "stream",
     "text": [
      "/usr/local/lib/python3.5/dist-packages/h5py/__init__.py:36: FutureWarning: Conversion of the second argument of issubdtype from `float` to `np.floating` is deprecated. In future, it will be treated as `np.float64 == np.dtype(float).type`.\n",
      "  from ._conv import register_converters as _register_converters\n"
     ]
    }
   ],
   "source": [
    "import numpy as np\n",
    "import tensorflow as tf\n",
    "\n",
    "tf.enable_eager_execution()"
   ]
  },
  {
   "cell_type": "code",
   "execution_count": 3,
   "metadata": {},
   "outputs": [],
   "source": [
    "tf.executing_eagerly()\n",
    "\n",
    "np.random.seed(1234)\n",
    "\n",
    "batch_size = 2\n",
    "N = 10 # number of maximum context length\n",
    "M = 5 # number of maximum question length\n",
    "d = 128\n",
    "\n",
    "c = np.random.randn(batch_size, N, d)\n",
    "a = np.random.randn(batch_size, N, d)\n",
    "b = np.random.randn(batch_size, N, d)"
   ]
  },
  {
   "cell_type": "code",
   "execution_count": 19,
   "metadata": {},
   "outputs": [
    {
     "data": {
      "text/plain": [
       "<_DeferredTensor 'None' shape=(?, 1, 10, 512) dtype=float32>"
      ]
     },
     "execution_count": 19,
     "metadata": {},
     "output_type": "execute_result"
    }
   ],
   "source": [
    "in_c = tf.keras.Input(shape=(N, d))\n",
    "in_a = tf.keras.Input(shape=(N, d))\n",
    "in_b = tf.keras.Input(shape=(N, d))\n",
    "\n",
    "# (batch_size, N, d * 4)\n",
    "x = tf.keras.layers.Concatenate(axis=2)([\n",
    "    in_c,\n",
    "    in_a,\n",
    "    tf.keras.layers.Multiply()([in_c, in_a]),\n",
    "    tf.keras.layers.Multiply()([in_c, in_b]),\n",
    "])\n",
    "# (batch_size, 1, N, d * 4)\n",
    "x = tf.keras.layers.Reshape((1, N, d * 4))(x)\n",
    "\n",
    "for l in range(2):\n",
    "    # (batch_size, 1, N, d * 4)\n",
    "    x = tf.keras.layers.SeparableConv2D(\n",
    "        d * 4,\n",
    "        kernel_size=(1, 7),\n",
    "        padding='same')(x)\n",
    "    x = tf.keras.layers.Activation('relu')(x)\n",
    "x"
   ]
  },
  {
   "cell_type": "code",
   "execution_count": 7,
   "metadata": {},
   "outputs": [
    {
     "data": {
      "text/plain": [
       "TensorShape([Dimension(2), Dimension(10), Dimension(512)])"
      ]
     },
     "execution_count": 7,
     "metadata": {},
     "output_type": "execute_result"
    }
   ],
   "source": [
    "x.shape"
   ]
  },
  {
   "cell_type": "code",
   "execution_count": null,
   "metadata": {},
   "outputs": [],
   "source": []
  }
 ],
 "metadata": {
  "kernelspec": {
   "display_name": "Python 3",
   "language": "python",
   "name": "python3"
  },
  "language_info": {
   "codemirror_mode": {
    "name": "ipython",
    "version": 3
   },
   "file_extension": ".py",
   "mimetype": "text/x-python",
   "name": "python",
   "nbconvert_exporter": "python",
   "pygments_lexer": "ipython3",
   "version": "3.5.2"
  }
 },
 "nbformat": 4,
 "nbformat_minor": 2
}
