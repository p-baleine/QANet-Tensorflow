{
 "cells": [
  {
   "cell_type": "markdown",
   "metadata": {},
   "source": [
    "前回からの変更点、\n",
    "\n",
    "* 文字の語彙数を正しいものに修正\n",
    "* Model encoderのブロック数をpaperに合わせ1から8に変更\n",
    "\n",
    "CSVLoggerでCSVが吐き出されない…こいつってCheckpointの保存タイミングとかにならないとCSV保存しないのか？？\n",
    "\n",
    "train_setに対するlossとacc:\n",
    "\n",
    "![2018-05-07%20%281%29.png](./2018-05-08.png)\n",
    "\n",
    "dev_setに対するlossとacc:\n",
    "\n",
    "![2018-05-07%20%281%29.png](./2018-05-08_2.png)\n"
   ]
  },
  {
   "cell_type": "markdown",
   "metadata": {},
   "source": [
    "---\n",
    "\n",
    "### TODO\n",
    "\n",
    "- とりあえずpaperと同じ設定で動作することを確認したので、正則化を導入して結果を比較してみる。"
   ]
  },
  {
   "cell_type": "code",
   "execution_count": null,
   "metadata": {},
   "outputs": [],
   "source": []
  }
 ],
 "metadata": {
  "kernelspec": {
   "display_name": "Python 3",
   "language": "python",
   "name": "python3"
  },
  "language_info": {
   "codemirror_mode": {
    "name": "ipython",
    "version": 3
   },
   "file_extension": ".py",
   "mimetype": "text/x-python",
   "name": "python",
   "nbconvert_exporter": "python",
   "pygments_lexer": "ipython3",
   "version": "3.5.2"
  }
 },
 "nbformat": 4,
 "nbformat_minor": 2
}
