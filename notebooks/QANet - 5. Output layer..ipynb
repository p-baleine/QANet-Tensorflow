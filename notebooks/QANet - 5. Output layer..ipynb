{
 "cells": [
  {
   "cell_type": "code",
   "execution_count": 1,
   "metadata": {},
   "outputs": [
    {
     "name": "stderr",
     "output_type": "stream",
     "text": [
      "/usr/local/lib/python3.5/dist-packages/h5py/__init__.py:36: FutureWarning: Conversion of the second argument of issubdtype from `float` to `np.floating` is deprecated. In future, it will be treated as `np.float64 == np.dtype(float).type`.\n",
      "  from ._conv import register_converters as _register_converters\n"
     ]
    }
   ],
   "source": [
    "import numpy as np\n",
    "import tensorflow as tf\n",
    "\n",
    "tf.enable_eager_execution()"
   ]
  },
  {
   "cell_type": "code",
   "execution_count": 2,
   "metadata": {},
   "outputs": [
    {
     "name": "stdout",
     "output_type": "stream",
     "text": [
      "(2, 10, 512)\n",
      "(2, 10)\n"
     ]
    }
   ],
   "source": [
    "# mask?\n",
    "\n",
    "tf.executing_eagerly()\n",
    "\n",
    "np.random.seed(1234)\n",
    "\n",
    "batch_size = 2\n",
    "N = 10 # number of maximum context length\n",
    "M = 5 # number of maximum question length\n",
    "d = 128\n",
    "\n",
    "M0 = np.random.randn(batch_size, N, d * 4)\n",
    "M1 = np.random.randn(batch_size, N, d * 4)\n",
    "M2 = np.random.randn(batch_size, N, d * 4)\n",
    "context_mask = np.array([[1.] * (N - 2) + [0.] * 2] * batch_size)\n",
    "\n",
    "print(M0.shape)\n",
    "print(context_mask.shape)"
   ]
  },
  {
   "cell_type": "code",
   "execution_count": 3,
   "metadata": {},
   "outputs": [],
   "source": [
    "class PositionPrediction(tf.keras.layers.Layer):\n",
    "    def __init__(self, initializer='glorot_uniform', **kwargs):\n",
    "        \"\"\"コンストラクタ\n",
    "        \n",
    "          引数:\n",
    "            initializer: 初期化\n",
    "        \"\"\"\n",
    "        self._initializer = initializer\n",
    "        super(PositionPrediction, self).__init__(**kwargs)\n",
    "\n",
    "    def build(self, input_shape):\n",
    "        M_a_shape, M_b_shape, _ = input_shape\n",
    "        \n",
    "        self._W = self.add_weight(\n",
    "            'weight',\n",
    "            [M_a_shape[-1] + M_b_shape[-1], 1],\n",
    "            initializer=self._initializer)\n",
    "        \n",
    "        super(PositionPrediction, self).build(input_shape)\n",
    "\n",
    "    def call(self, x):\n",
    "        \"\"\"call\n",
    "        \n",
    "        引数:\n",
    "          x:\n",
    "            M_a: (batch_size, N, d * 4)\n",
    "            M_b: (batch_size, N, d * 4)\n",
    "            context_mask: (batch_size, N)\n",
    "        \"\"\"\n",
    "        M_a, M_b, context_mask = x\n",
    "        M = tf.concat([M_a, M_b], axis=2)\n",
    "        # (batch_size, N)\n",
    "        logits = tf.squeeze(tf.tensordot(M, self._W, [[2], [0]]))\n",
    "        return tf.nn.softmax(exp_mask(logits, context_mask))\n",
    "    \n",
    "    def compute_output_shape(self, input_shape):\n",
    "        M_a_shape, _, _ = input_shape        \n",
    "        return tf.TensorShape([M_a_shape[0], 1])\n",
    "\n",
    "VERY_NEGATIVE_NUMBER = - 1e30\n",
    "    \n",
    "def exp_mask(val, mask):\n",
    "    return val + (1. - tf.cast(mask, tf.float32)) * VERY_NEGATIVE_NUMBER"
   ]
  },
  {
   "cell_type": "code",
   "execution_count": 4,
   "metadata": {},
   "outputs": [],
   "source": [
    "in_M_0 = tf.keras.layers.Input(shape=(N, d * 4))\n",
    "in_M_1 = tf.keras.layers.Input(shape=(N, d * 4))\n",
    "in_M_2 = tf.keras.layers.Input(shape=(N, d * 4))\n",
    "in_context_mask = tf.keras.layers.Input(shape=(N,))\n",
    "\n",
    "p_1 = PositionPrediction()((in_M_0, in_M_1, in_context_mask))\n",
    "p_2 = PositionPrediction()((in_M_0, in_M_2, in_context_mask))\n",
    "\n",
    "model = tf.keras.models.Model(\n",
    "    inputs=[in_M_0, in_M_1, in_M_2, in_context_mask], outputs=[p_1, p_2])\n",
    "model.compile(\n",
    "    optimizer=tf.train.GradientDescentOptimizer(0.001),\n",
    "    loss='mse')"
   ]
  },
  {
   "cell_type": "code",
   "execution_count": 5,
   "metadata": {
    "scrolled": false
   },
   "outputs": [],
   "source": [
    "p_start, p_end = model.predict([M0, M1, M2, context_mask])"
   ]
  },
  {
   "cell_type": "code",
   "execution_count": 6,
   "metadata": {},
   "outputs": [
    {
     "data": {
      "text/plain": [
       "array([[0.3444644 , 0.03433581, 0.02684279, 0.06284202, 0.0140499 ,\n",
       "        0.14457478, 0.06538274, 0.30750763, 0.        , 0.        ],\n",
       "       [0.00283944, 0.20249864, 0.09099659, 0.05963712, 0.4290224 ,\n",
       "        0.0200462 , 0.1120894 , 0.08287019, 0.        , 0.        ]],\n",
       "      dtype=float32)"
      ]
     },
     "execution_count": 6,
     "metadata": {},
     "output_type": "execute_result"
    }
   ],
   "source": [
    "p_start"
   ]
  },
  {
   "cell_type": "code",
   "execution_count": null,
   "metadata": {},
   "outputs": [],
   "source": [
    "# loss\n",
    "# kerasだとpredictionになっているからlogitsを復帰して\n",
    "# start、endそれぞれでy_trueとsoftmax_cross_entropy_with_logitsして足し算"
   ]
  },
  {
   "cell_type": "code",
   "execution_count": null,
   "metadata": {},
   "outputs": [],
   "source": [
    "print(p_start.shape)\n",
    "start_labels = np.random.randint(2, size=(2, 10))\n",
    "end_labels = np.random.randint(2, size=(2, 10))"
   ]
  },
  {
   "cell_type": "code",
   "execution_count": null,
   "metadata": {},
   "outputs": [],
   "source": [
    "def loss(y_true, y_pred):\n",
    "    # TODO 確認したい、ここ、startとendが別個に渡ってくる？？？\n",
    "    print(y_true, y_pred)\n",
    "    # mean取る前にmaskかけてる…答えのないyがあるの？\n",
    "    # tf.reduce_mean(- tf.reduce_sum(start_labels * tf.log(p_start), axis=1))\n",
    "    return 1."
   ]
  },
  {
   "cell_type": "code",
   "execution_count": null,
   "metadata": {},
   "outputs": [],
   "source": [
    "model = tf.keras.models.Model(\n",
    "    inputs=[in_M_0, in_M_1, in_M_2], outputs=[p_1, p_2])\n",
    "model.compile(\n",
    "    optimizer=tf.train.GradientDescentOptimizer(0.001),\n",
    "    loss='categorical_crossentropy',\n",
    "    loss_weights=[.5, .5])\n",
    "# なんかこれ指定するとこの重みでロス足し合わせたものをロスにしてくれるらしい\n",
    "# マスクとか追加の処理したかったらloss関数作る"
   ]
  },
  {
   "cell_type": "code",
   "execution_count": null,
   "metadata": {},
   "outputs": [],
   "source": [
    "[start_labels, end_labels]"
   ]
  },
  {
   "cell_type": "code",
   "execution_count": null,
   "metadata": {
    "scrolled": false
   },
   "outputs": [],
   "source": [
    "model.fit([M0, M1, M2], [start_labels, end_labels])"
   ]
  },
  {
   "cell_type": "code",
   "execution_count": null,
   "metadata": {},
   "outputs": [],
   "source": []
  }
 ],
 "metadata": {
  "kernelspec": {
   "display_name": "Python 3",
   "language": "python",
   "name": "python3"
  },
  "language_info": {
   "codemirror_mode": {
    "name": "ipython",
    "version": 3
   },
   "file_extension": ".py",
   "mimetype": "text/x-python",
   "name": "python",
   "nbconvert_exporter": "python",
   "pygments_lexer": "ipython3",
   "version": "3.5.2"
  }
 },
 "nbformat": 4,
 "nbformat_minor": 2
}
