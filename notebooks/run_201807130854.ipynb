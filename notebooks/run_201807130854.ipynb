{
 "cells": [
  {
   "cell_type": "markdown",
   "metadata": {},
   "source": [
    "# run_201807130854\n",
    "\n",
    "以下の正則化を実装したので学習の様子を確認してみた。\n",
    "\n",
    "* L2 weight decay\n",
    "* 層間のドロップアウト\n",
    "* layer dropout\n",
    "\n",
    "また、以下点について論文を読み間違えていたので修正した。\n",
    "\n",
    "* Multi-Head Attentionのヘッド数を1から8に変更\n",
    "* Encoder Blockの畳み込み層を一層一層づつResidual BlockとLayer Normalizationでくるむ(これまで間違えて全層をひとまとめにくるんでいた)\n",
    "* Model Encoder Blockへの入力を128次元にマッピングする(これまで$[c, a, c \\odot a, c \\odot b]$の512次元のままModel Encoder Blockに入力していた)\n",
    "\n",
    "上記修正を適用した結果、AWSのP100上では問題なく動作するが、ローカルのGTX1080では論文通りの設定では動かなくなってしまった(バッチサイズを半分にすると動く)\n",
    "\n",
    "---\n",
    "\n",
    "## 結果の詳細\n",
    "\n",
    "* commit: 32294a2fb0d5ea2b1e2ffbc6b6c79af6ea6b3d65\n",
    "* 前処理済データ： [preprocessed_fix_201805220440.tar.gz](https://s3.amazonaws.com/taiwa-eqa/qanet/preprocessed_fix_201805220440.tar.gz)"
   ]
  },
  {
   "cell_type": "code",
   "execution_count": null,
   "metadata": {},
   "outputs": [],
   "source": []
  }
 ],
 "metadata": {
  "kernelspec": {
   "display_name": "Python 3",
   "language": "python",
   "name": "python3"
  },
  "language_info": {
   "codemirror_mode": {
    "name": "ipython",
    "version": 3
   },
   "file_extension": ".py",
   "mimetype": "text/x-python",
   "name": "python",
   "nbconvert_exporter": "python",
   "pygments_lexer": "ipython3",
   "version": "3.5.2"
  }
 },
 "nbformat": 4,
 "nbformat_minor": 2
}
