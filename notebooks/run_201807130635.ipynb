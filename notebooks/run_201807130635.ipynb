{
 "cells": [
  {
   "cell_type": "markdown",
   "metadata": {},
   "source": [
    "# run_201807130635\n",
    "\n",
    "以下の正則化を実装したので学習の様子を確認してみた。\n",
    "\n",
    "* L2 weight decay\n",
    "* 層間のドロップアウト\n",
    "* layer dropout\n",
    "\n",
    "また、Encoder Blockの畳み込み部分について、これまで畳み込みブロック全体をResidual BlockとLayer normalizationでくるんでいたが、実際は畳み込みブロックの各畳み込み層をこれらでくるむべきだったのでこの点を修正した。\n",
    "\n",
    "この結果、Residual Block x (Num convolutional layer - 1)分パラメータが増えたため、P 100にも乗らなくなってしまった。そのため今回はEncoder Blockの数を7から5に減らした。\n",
    "但し、論文でもP100を利用しているとあるので、今の実装が間違っている可能性がある。"
   ]
  },
  {
   "cell_type": "code",
   "execution_count": null,
   "metadata": {},
   "outputs": [],
   "source": []
  }
 ],
 "metadata": {
  "kernelspec": {
   "display_name": "Python 3",
   "language": "python",
   "name": "python3"
  },
  "language_info": {
   "codemirror_mode": {
    "name": "ipython",
    "version": 3
   },
   "file_extension": ".py",
   "mimetype": "text/x-python",
   "name": "python",
   "nbconvert_exporter": "python",
   "pygments_lexer": "ipython3",
   "version": "3.5.2"
  }
 },
 "nbformat": 4,
 "nbformat_minor": 2
}
